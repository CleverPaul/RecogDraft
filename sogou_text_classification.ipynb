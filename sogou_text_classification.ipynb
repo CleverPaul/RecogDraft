{
 "cells": [
  {
   "cell_type": "markdown",
   "metadata": {},
   "source": [
    "## Load sogou data"
   ]
  },
  {
   "cell_type": "code",
   "execution_count": 2,
   "metadata": {},
   "outputs": [
    {
     "name": "stderr",
     "output_type": "stream",
     "text": [
      "Using TensorFlow backend.\n"
     ]
    },
    {
     "name": "stdout",
     "output_type": "stream",
     "text": [
      ">>>data loaded\n",
      "batch sizes:\n",
      "[5760, 2304, 2304, 2304, 2304, 2304, 2304, 2304, 2304, 2304]\n"
     ]
    }
   ],
   "source": [
    "import sys\n",
    "import copy\n",
    "import time\n",
    "import scipy.io\n",
    "import random\n",
    "rawData = scipy.io.loadmat('/data/Sogou_data/Sogou_webpage.mat')\n",
    "docLabels   = rawData['doclabel']\n",
    "wordVectors = rawData['wordMat']\n",
    "docCnt=len(docLabels)\n",
    "wordCnt =wordVectors.shape[1]\n",
    "\n",
    "\n",
    "import numpy as np\n",
    "import pandas as pd\n",
    "df_wordVectors = pd.DataFrame(data=docLabels, columns=['label'])\n",
    "df_docLabels   = pd.DataFrame(wordVectors,columns=[str(x) for x in range(1,1+wordCnt)])\n",
    "cleanData = pd.concat([df_wordVectors, df_docLabels], axis=1)\n",
    "\n",
    "\n",
    "labelCnt =len(set(cleanData['label']))\n",
    "\n",
    "import random\n",
    "# 取80%数据训练，留20%数据测试\n",
    "train = cleanData.sample(frac=0.8)\n",
    "test =  cleanData.drop(train.index)\n",
    "\n",
    "random.seed(1)\n",
    "train1 = train.sample(frac=0.5)\n",
    "random.seed(2)\n",
    "train2 = train.sample(frac=0.2)\n",
    "random.seed(3)\n",
    "train3 = train.sample(frac=0.2)\n",
    "random.seed(4)\n",
    "train4 = train.sample(frac=0.2)\n",
    "random.seed(5)\n",
    "train5 = train.sample(frac=0.2)\n",
    "random.seed(6)\n",
    "train6 = train.sample(frac=0.2)\n",
    "random.seed(7)\n",
    "train7 = train.sample(frac=0.2)\n",
    "random.seed(8)\n",
    "train8 = train.sample(frac=0.2)\n",
    "random.seed(9)\n",
    "train9 = train.sample(frac=0.2)\n",
    "random.seed(10)\n",
    "train10= train.sample(frac=0.2)\n",
    "\n",
    "decOne = lambda x: x-1\n",
    "\n",
    "import keras\n",
    "x_train= train1.iloc[:, list(range(1,1+1200))].values\n",
    "y_train= train1.iloc[:, [0]].apply(decOne).values\n",
    "y_train= keras.utils.to_categorical(y_train, num_classes=9)\n",
    "\n",
    "x_test = test.iloc[:, list(range(1,1+1200))].values\n",
    "y_test = test.iloc[:, [0]].apply(decOne).values\n",
    "y_test= keras.utils.to_categorical(y_test, num_classes=9)\n",
    "\n",
    "\n",
    "print(\">>>data loaded\")\n",
    "print(\"batch sizes:\")\n",
    "print([len(train1), len(train2),len(train3),len(train4),len(train5),len(train6),len(train7),len(train8),len(train9),len(train10)])\n"
   ]
  },
  {
   "cell_type": "code",
   "execution_count": 4,
   "metadata": {
    "collapsed": true
   },
   "outputs": [],
   "source": [
    "from keras.models import Sequential\n",
    "from keras.layers import Dense, Dropout, Activation\n",
    "from keras.optimizers import SGD\n",
    "\n",
    "model = Sequential()\n",
    "model.add(Dense(164, activation='relu', input_dim=1200))\n",
    "model.add(Dropout(0.35))\n",
    "model.add(Dense(64, activation='relu'))\n",
    "model.add(Dropout(0.05))\n",
    "model.add(Dense(9,activation='relu'))\n",
    "\n",
    "sgd = SGD(lr=0.001, decay=1e-6, momentum=0.9, nesterov=True)\n",
    "model.compile(loss='categorical_crossentropy',\n",
    "              optimizer=sgd,\n",
    "              metrics=['accuracy'])"
   ]
  },
  {
   "cell_type": "code",
   "execution_count": 5,
   "metadata": {},
   "outputs": [
    {
     "name": "stdout",
     "output_type": "stream",
     "text": [
      "Epoch 1/50\n",
      "5760/5760 [==============================] - 82s - loss: 2.0809 - acc: 0.2486    \n",
      "Epoch 2/50\n",
      "5760/5760 [==============================] - 3s - loss: 1.8675 - acc: 0.3186     \n",
      "Epoch 3/50\n",
      "5760/5760 [==============================] - 3s - loss: 1.6551 - acc: 0.4290     \n",
      "Epoch 4/50\n",
      "5760/5760 [==============================] - 3s - loss: 1.5222 - acc: 0.5101     \n",
      "Epoch 5/50\n",
      "5760/5760 [==============================] - 3s - loss: 1.3347 - acc: 0.6135     \n",
      "Epoch 6/50\n",
      "5760/5760 [==============================] - 3s - loss: 1.3176 - acc: 0.6446     \n",
      "Epoch 7/50\n",
      "5760/5760 [==============================] - 3s - loss: 1.4776 - acc: 0.4297     \n",
      "Epoch 8/50\n",
      "5760/5760 [==============================] - ETA: 0s - loss: 1.1729 - acc: 0.690 - 3s - loss: 1.1696 - acc: 0.6915     \n",
      "Epoch 9/50\n",
      "5760/5760 [==============================] - 3s - loss: 1.5558 - acc: 0.5049     \n",
      "Epoch 10/50\n",
      "5760/5760 [==============================] - 4s - loss: 2.0967 - acc: 0.4351     \n",
      "Epoch 11/50\n",
      "5760/5760 [==============================] - 4s - loss: 2.8948 - acc: 0.1123     \n",
      "Epoch 12/50\n",
      "5760/5760 [==============================] - 4s - loss: 2.7116 - acc: 0.1123     \n",
      "Epoch 13/50\n",
      "5760/5760 [==============================] - 4s - loss: 2.6194 - acc: 0.1123     \n",
      "Epoch 14/50\n",
      "5760/5760 [==============================] - 4s - loss: 2.5594 - acc: 0.1123     \n",
      "Epoch 15/50\n",
      "5760/5760 [==============================] - 3s - loss: 2.5146 - acc: 0.1123     \n",
      "Epoch 16/50\n",
      "5760/5760 [==============================] - 3s - loss: 2.4797 - acc: 0.1123     \n",
      "Epoch 17/50\n",
      "5760/5760 [==============================] - 4s - loss: 2.4505 - acc: 0.1123     \n",
      "Epoch 18/50\n",
      "5760/5760 [==============================] - 4s - loss: 2.4270 - acc: 0.1123     \n",
      "Epoch 19/50\n",
      "5760/5760 [==============================] - 4s - loss: 2.4059 - acc: 0.1122     \n",
      "Epoch 20/50\n",
      "5760/5760 [==============================] - 4s - loss: 2.3871 - acc: 0.1125     \n",
      "Epoch 21/50\n",
      "5760/5760 [==============================] - 4s - loss: 2.3705 - acc: 0.1122     \n",
      "Epoch 22/50\n",
      "5760/5760 [==============================] - 4s - loss: 2.3583 - acc: 0.1123     \n",
      "Epoch 23/50\n",
      "5760/5760 [==============================] - 4s - loss: 2.3446 - acc: 0.1127     \n",
      "Epoch 24/50\n",
      "5760/5760 [==============================] - 4s - loss: 2.3323 - acc: 0.1128     \n",
      "Epoch 25/50\n",
      "5760/5760 [==============================] - 4s - loss: 2.3221 - acc: 0.1127     \n",
      "Epoch 26/50\n",
      "5760/5760 [==============================] - 4s - loss: 2.3115 - acc: 0.1123     \n",
      "Epoch 27/50\n",
      "5760/5760 [==============================] - 4s - loss: 2.3038 - acc: 0.1128     \n",
      "Epoch 28/50\n",
      "5760/5760 [==============================] - 4s - loss: 2.2955 - acc: 0.1137     \n",
      "Epoch 29/50\n",
      "5760/5760 [==============================] - 4s - loss: 2.2865 - acc: 0.1149     \n",
      "Epoch 30/50\n",
      "5760/5760 [==============================] - 4s - loss: 2.2786 - acc: 0.1149     \n",
      "Epoch 31/50\n",
      "5760/5760 [==============================] - 4s - loss: 2.2722 - acc: 0.1142     \n",
      "Epoch 32/50\n",
      "5760/5760 [==============================] - 4s - loss: 2.2662 - acc: 0.1148     \n",
      "Epoch 33/50\n",
      "5760/5760 [==============================] - 4s - loss: 2.2599 - acc: 0.1158     \n",
      "Epoch 34/50\n",
      "5760/5760 [==============================] - 4s - loss: 2.2537 - acc: 0.1165     \n",
      "Epoch 35/50\n",
      "5760/5760 [==============================] - 4s - loss: 2.2488 - acc: 0.1170     \n",
      "Epoch 36/50\n",
      "5760/5760 [==============================] - 4s - loss: 2.2437 - acc: 0.1156     \n",
      "Epoch 37/50\n",
      "5760/5760 [==============================] - 4s - loss: 2.2363 - acc: 0.1179     \n",
      "Epoch 38/50\n",
      "5760/5760 [==============================] - 4s - loss: 2.2313 - acc: 0.1184     \n",
      "Epoch 39/50\n",
      "5760/5760 [==============================] - 3s - loss: 2.2272 - acc: 0.1200     \n",
      "Epoch 40/50\n",
      "5760/5760 [==============================] - 3s - loss: 2.2203 - acc: 0.1220     \n",
      "Epoch 41/50\n",
      "5760/5760 [==============================] - 3s - loss: 2.2152 - acc: 0.1226     \n",
      "Epoch 42/50\n",
      "5760/5760 [==============================] - 4s - loss: 2.2090 - acc: 0.1257     \n",
      "Epoch 43/50\n",
      "5760/5760 [==============================] - 4s - loss: 2.2035 - acc: 0.1280     \n",
      "Epoch 44/50\n",
      "5760/5760 [==============================] - 4s - loss: 2.1943 - acc: 0.1345     \n",
      "Epoch 45/50\n",
      "5760/5760 [==============================] - 4s - loss: 2.1898 - acc: 0.1358     \n",
      "Epoch 46/50\n",
      "5760/5760 [==============================] - 4s - loss: 2.1823 - acc: 0.1474     \n",
      "Epoch 47/50\n",
      "5760/5760 [==============================] - 4s - loss: 2.1729 - acc: 0.1611     \n",
      "Epoch 48/50\n",
      "5760/5760 [==============================] - 3s - loss: 2.1655 - acc: 0.1717     \n",
      "Epoch 49/50\n",
      "5760/5760 [==============================] - 3s - loss: 2.1519 - acc: 0.1809     \n",
      "Epoch 50/50\n",
      "5760/5760 [==============================] - 3s - loss: 2.1398 - acc: 0.1962     \n",
      "2760/2880 [===========================>..] - ETA: 0s"
     ]
    }
   ],
   "source": [
    "model.fit(x_train, y_train,\n",
    "          epochs=50,\n",
    "          batch_size=5)\n",
    "score = model.evaluate(x_test, y_test, batch_size=5)"
   ]
  },
  {
   "cell_type": "code",
   "execution_count": 6,
   "metadata": {},
   "outputs": [
    {
     "data": {
      "text/plain": [
       "[2.1254278160631657, 0.20972222488166559]"
      ]
     },
     "execution_count": 6,
     "metadata": {},
     "output_type": "execute_result"
    }
   ],
   "source": [
    "score"
   ]
  },
  {
   "cell_type": "code",
   "execution_count": 2,
   "metadata": {
    "collapsed": true
   },
   "outputs": [],
   "source": [
    "\n"
   ]
  }
 ],
 "metadata": {
  "kernelspec": {
   "display_name": "Python 3",
   "language": "python",
   "name": "python3"
  },
  "language_info": {
   "codemirror_mode": {
    "name": "ipython",
    "version": 3
   },
   "file_extension": ".py",
   "mimetype": "text/x-python",
   "name": "python",
   "nbconvert_exporter": "python",
   "pygments_lexer": "ipython3",
   "version": "3.5.3"
  }
 },
 "nbformat": 4,
 "nbformat_minor": 2
}
